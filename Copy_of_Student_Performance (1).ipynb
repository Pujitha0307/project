{
  "cells": [
    {
      "cell_type": "markdown",
      "source": [
        "<center><center><h1> Title of the project</h1></center>"
      ],
      "metadata": {
        "id": "FbkUXOt8qZ5L"
      },
      "id": "FbkUXOt8qZ5L"
    },
    {
      "cell_type": "markdown",
      "source": [
        "<h2>ADVANCED STUDENT ACADEMIC PRIDICTION USING MACHINE LEARNING</h>"
      ],
      "metadata": {
        "id": "1RWVweeTqXZ6"
      },
      "id": "1RWVweeTqXZ6"
    },
    {
      "cell_type": "markdown",
      "id": "504ab721",
      "metadata": {
        "id": "504ab721"
      },
      "source": [
        "## Importing the required libraries"
      ]
    },
    {
      "cell_type": "markdown",
      "source": [],
      "metadata": {
        "id": "iAMuvjPzqWqf"
      },
      "id": "iAMuvjPzqWqf"
    },
    {
      "cell_type": "code",
      "execution_count": null,
      "id": "d085eab4",
      "metadata": {
        "id": "d085eab4"
      },
      "outputs": [],
      "source": [
        "import numpy as np\n",
        "import pandas as pd\n",
        "import matplotlib.pyplot as plt\n",
        "%matplotlib inline\n",
        "import seaborn as sns"
      ]
    },
    {
      "cell_type": "code",
      "source": [
        "from google.colab import drive\n",
        "drive.mount('/content/drive')"
      ],
      "metadata": {
        "colab": {
          "base_uri": "https://localhost:8080/"
        },
        "id": "lbqtMZtwnOBJ",
        "outputId": "40e03344-2ee5-4154-af9a-1956b244b2df"
      },
      "id": "lbqtMZtwnOBJ",
      "execution_count": null,
      "outputs": [
        {
          "output_type": "stream",
          "name": "stdout",
          "text": [
            "Mounted at /content/drive\n"
          ]
        }
      ]
    },
    {
      "cell_type": "markdown",
      "id": "611f8231",
      "metadata": {
        "id": "611f8231"
      },
      "source": [
        "## Import the required dataset"
      ]
    },
    {
      "cell_type": "code",
      "execution_count": null,
      "id": "7c42897a",
      "metadata": {
        "id": "7c42897a"
      },
      "outputs": [],
      "source": [
        "df=pd.read_csv('/content/drive/MyDrive/performance_data.csv')"
      ]
    },
    {
      "cell_type": "markdown",
      "id": "f4fdad59",
      "metadata": {
        "id": "f4fdad59"
      },
      "source": [
        "## Displaying the dataset"
      ]
    },
    {
      "cell_type": "code",
      "execution_count": null,
      "id": "ef2262ef",
      "metadata": {
        "colab": {
          "base_uri": "https://localhost:8080/",
          "height": 330
        },
        "id": "ef2262ef",
        "outputId": "cd163beb-7e9a-4d8c-c9df-b8a036b12cd2"
      },
      "outputs": [
        {
          "output_type": "execute_result",
          "data": {
            "text/plain": [
              "   10th Marks   Medium  Board  Intermediate marks  Eamcet Rank  Attendance  \\\n",
              "0         5.9  english   ICSE                 719        42814          76   \n",
              "1         8.0   telugu   CBSE                 772        46663         148   \n",
              "2         8.3   telugu  State                 598        29287          91   \n",
              "3         8.0   telugu   CBSE                 898         4912          60   \n",
              "4         8.7   telugu   ICSE                 535        29961         102   \n",
              "5         7.8   telugu   CBSE                 678         4838         136   \n",
              "6         7.5   telugu   ICSE                 940        38704         107   \n",
              "\n",
              "   Backlogs   Education gaps Parents Status   Health Disability  \\\n",
              "0          3               2         Normal  Average         no   \n",
              "1          6               1     passed_out      Bad         no   \n",
              "2          4               2         Normal     Good        yes   \n",
              "3          3               0         Normal     Good        yes   \n",
              "4          3               0       Divorced      Bad         no   \n",
              "5          1               1         Normal      Bad        yes   \n",
              "6          3               1     passed_out      Bad        yes   \n",
              "\n",
              "  Maritial Status Parents Education      Sports  Logical thinking degree marks  \n",
              "0             yes                no      Active  not_participated  first_class  \n",
              "1              no                no  non_active      participated   Destincton  \n",
              "2              no               yes      Active      participated  first_class  \n",
              "3             yes                no  non_active  not_participated  first_class  \n",
              "4             yes               yes      Active  not_participated   pass_class  \n",
              "5             yes                no      Active  not_participated   Destincton  \n",
              "6              no               yes      Active  not_participated   pass_class  "
            ],
            "text/html": [
              "\n",
              "  <div id=\"df-77be2364-ab45-4047-9559-89ef71e52718\">\n",
              "    <div class=\"colab-df-container\">\n",
              "      <div>\n",
              "<style scoped>\n",
              "    .dataframe tbody tr th:only-of-type {\n",
              "        vertical-align: middle;\n",
              "    }\n",
              "\n",
              "    .dataframe tbody tr th {\n",
              "        vertical-align: top;\n",
              "    }\n",
              "\n",
              "    .dataframe thead th {\n",
              "        text-align: right;\n",
              "    }\n",
              "</style>\n",
              "<table border=\"1\" class=\"dataframe\">\n",
              "  <thead>\n",
              "    <tr style=\"text-align: right;\">\n",
              "      <th></th>\n",
              "      <th>10th Marks</th>\n",
              "      <th>Medium</th>\n",
              "      <th>Board</th>\n",
              "      <th>Intermediate marks</th>\n",
              "      <th>Eamcet Rank</th>\n",
              "      <th>Attendance</th>\n",
              "      <th>Backlogs</th>\n",
              "      <th>Education gaps</th>\n",
              "      <th>Parents Status</th>\n",
              "      <th>Health</th>\n",
              "      <th>Disability</th>\n",
              "      <th>Maritial Status</th>\n",
              "      <th>Parents Education</th>\n",
              "      <th>Sports</th>\n",
              "      <th>Logical thinking</th>\n",
              "      <th>degree marks</th>\n",
              "    </tr>\n",
              "  </thead>\n",
              "  <tbody>\n",
              "    <tr>\n",
              "      <th>0</th>\n",
              "      <td>5.9</td>\n",
              "      <td>english</td>\n",
              "      <td>ICSE</td>\n",
              "      <td>719</td>\n",
              "      <td>42814</td>\n",
              "      <td>76</td>\n",
              "      <td>3</td>\n",
              "      <td>2</td>\n",
              "      <td>Normal</td>\n",
              "      <td>Average</td>\n",
              "      <td>no</td>\n",
              "      <td>yes</td>\n",
              "      <td>no</td>\n",
              "      <td>Active</td>\n",
              "      <td>not_participated</td>\n",
              "      <td>first_class</td>\n",
              "    </tr>\n",
              "    <tr>\n",
              "      <th>1</th>\n",
              "      <td>8.0</td>\n",
              "      <td>telugu</td>\n",
              "      <td>CBSE</td>\n",
              "      <td>772</td>\n",
              "      <td>46663</td>\n",
              "      <td>148</td>\n",
              "      <td>6</td>\n",
              "      <td>1</td>\n",
              "      <td>passed_out</td>\n",
              "      <td>Bad</td>\n",
              "      <td>no</td>\n",
              "      <td>no</td>\n",
              "      <td>no</td>\n",
              "      <td>non_active</td>\n",
              "      <td>participated</td>\n",
              "      <td>Destincton</td>\n",
              "    </tr>\n",
              "    <tr>\n",
              "      <th>2</th>\n",
              "      <td>8.3</td>\n",
              "      <td>telugu</td>\n",
              "      <td>State</td>\n",
              "      <td>598</td>\n",
              "      <td>29287</td>\n",
              "      <td>91</td>\n",
              "      <td>4</td>\n",
              "      <td>2</td>\n",
              "      <td>Normal</td>\n",
              "      <td>Good</td>\n",
              "      <td>yes</td>\n",
              "      <td>no</td>\n",
              "      <td>yes</td>\n",
              "      <td>Active</td>\n",
              "      <td>participated</td>\n",
              "      <td>first_class</td>\n",
              "    </tr>\n",
              "    <tr>\n",
              "      <th>3</th>\n",
              "      <td>8.0</td>\n",
              "      <td>telugu</td>\n",
              "      <td>CBSE</td>\n",
              "      <td>898</td>\n",
              "      <td>4912</td>\n",
              "      <td>60</td>\n",
              "      <td>3</td>\n",
              "      <td>0</td>\n",
              "      <td>Normal</td>\n",
              "      <td>Good</td>\n",
              "      <td>yes</td>\n",
              "      <td>yes</td>\n",
              "      <td>no</td>\n",
              "      <td>non_active</td>\n",
              "      <td>not_participated</td>\n",
              "      <td>first_class</td>\n",
              "    </tr>\n",
              "    <tr>\n",
              "      <th>4</th>\n",
              "      <td>8.7</td>\n",
              "      <td>telugu</td>\n",
              "      <td>ICSE</td>\n",
              "      <td>535</td>\n",
              "      <td>29961</td>\n",
              "      <td>102</td>\n",
              "      <td>3</td>\n",
              "      <td>0</td>\n",
              "      <td>Divorced</td>\n",
              "      <td>Bad</td>\n",
              "      <td>no</td>\n",
              "      <td>yes</td>\n",
              "      <td>yes</td>\n",
              "      <td>Active</td>\n",
              "      <td>not_participated</td>\n",
              "      <td>pass_class</td>\n",
              "    </tr>\n",
              "    <tr>\n",
              "      <th>5</th>\n",
              "      <td>7.8</td>\n",
              "      <td>telugu</td>\n",
              "      <td>CBSE</td>\n",
              "      <td>678</td>\n",
              "      <td>4838</td>\n",
              "      <td>136</td>\n",
              "      <td>1</td>\n",
              "      <td>1</td>\n",
              "      <td>Normal</td>\n",
              "      <td>Bad</td>\n",
              "      <td>yes</td>\n",
              "      <td>yes</td>\n",
              "      <td>no</td>\n",
              "      <td>Active</td>\n",
              "      <td>not_participated</td>\n",
              "      <td>Destincton</td>\n",
              "    </tr>\n",
              "    <tr>\n",
              "      <th>6</th>\n",
              "      <td>7.5</td>\n",
              "      <td>telugu</td>\n",
              "      <td>ICSE</td>\n",
              "      <td>940</td>\n",
              "      <td>38704</td>\n",
              "      <td>107</td>\n",
              "      <td>3</td>\n",
              "      <td>1</td>\n",
              "      <td>passed_out</td>\n",
              "      <td>Bad</td>\n",
              "      <td>yes</td>\n",
              "      <td>no</td>\n",
              "      <td>yes</td>\n",
              "      <td>Active</td>\n",
              "      <td>not_participated</td>\n",
              "      <td>pass_class</td>\n",
              "    </tr>\n",
              "  </tbody>\n",
              "</table>\n",
              "</div>\n",
              "      <button class=\"colab-df-convert\" onclick=\"convertToInteractive('df-77be2364-ab45-4047-9559-89ef71e52718')\"\n",
              "              title=\"Convert this dataframe to an interactive table.\"\n",
              "              style=\"display:none;\">\n",
              "        \n",
              "  <svg xmlns=\"http://www.w3.org/2000/svg\" height=\"24px\"viewBox=\"0 0 24 24\"\n",
              "       width=\"24px\">\n",
              "    <path d=\"M0 0h24v24H0V0z\" fill=\"none\"/>\n",
              "    <path d=\"M18.56 5.44l.94 2.06.94-2.06 2.06-.94-2.06-.94-.94-2.06-.94 2.06-2.06.94zm-11 1L8.5 8.5l.94-2.06 2.06-.94-2.06-.94L8.5 2.5l-.94 2.06-2.06.94zm10 10l.94 2.06.94-2.06 2.06-.94-2.06-.94-.94-2.06-.94 2.06-2.06.94z\"/><path d=\"M17.41 7.96l-1.37-1.37c-.4-.4-.92-.59-1.43-.59-.52 0-1.04.2-1.43.59L10.3 9.45l-7.72 7.72c-.78.78-.78 2.05 0 2.83L4 21.41c.39.39.9.59 1.41.59.51 0 1.02-.2 1.41-.59l7.78-7.78 2.81-2.81c.8-.78.8-2.07 0-2.86zM5.41 20L4 18.59l7.72-7.72 1.47 1.35L5.41 20z\"/>\n",
              "  </svg>\n",
              "      </button>\n",
              "      \n",
              "  <style>\n",
              "    .colab-df-container {\n",
              "      display:flex;\n",
              "      flex-wrap:wrap;\n",
              "      gap: 12px;\n",
              "    }\n",
              "\n",
              "    .colab-df-convert {\n",
              "      background-color: #E8F0FE;\n",
              "      border: none;\n",
              "      border-radius: 50%;\n",
              "      cursor: pointer;\n",
              "      display: none;\n",
              "      fill: #1967D2;\n",
              "      height: 32px;\n",
              "      padding: 0 0 0 0;\n",
              "      width: 32px;\n",
              "    }\n",
              "\n",
              "    .colab-df-convert:hover {\n",
              "      background-color: #E2EBFA;\n",
              "      box-shadow: 0px 1px 2px rgba(60, 64, 67, 0.3), 0px 1px 3px 1px rgba(60, 64, 67, 0.15);\n",
              "      fill: #174EA6;\n",
              "    }\n",
              "\n",
              "    [theme=dark] .colab-df-convert {\n",
              "      background-color: #3B4455;\n",
              "      fill: #D2E3FC;\n",
              "    }\n",
              "\n",
              "    [theme=dark] .colab-df-convert:hover {\n",
              "      background-color: #434B5C;\n",
              "      box-shadow: 0px 1px 3px 1px rgba(0, 0, 0, 0.15);\n",
              "      filter: drop-shadow(0px 1px 2px rgba(0, 0, 0, 0.3));\n",
              "      fill: #FFFFFF;\n",
              "    }\n",
              "  </style>\n",
              "\n",
              "      <script>\n",
              "        const buttonEl =\n",
              "          document.querySelector('#df-77be2364-ab45-4047-9559-89ef71e52718 button.colab-df-convert');\n",
              "        buttonEl.style.display =\n",
              "          google.colab.kernel.accessAllowed ? 'block' : 'none';\n",
              "\n",
              "        async function convertToInteractive(key) {\n",
              "          const element = document.querySelector('#df-77be2364-ab45-4047-9559-89ef71e52718');\n",
              "          const dataTable =\n",
              "            await google.colab.kernel.invokeFunction('convertToInteractive',\n",
              "                                                     [key], {});\n",
              "          if (!dataTable) return;\n",
              "\n",
              "          const docLinkHtml = 'Like what you see? Visit the ' +\n",
              "            '<a target=\"_blank\" href=https://colab.research.google.com/notebooks/data_table.ipynb>data table notebook</a>'\n",
              "            + ' to learn more about interactive tables.';\n",
              "          element.innerHTML = '';\n",
              "          dataTable['output_type'] = 'display_data';\n",
              "          await google.colab.output.renderOutput(dataTable, element);\n",
              "          const docLink = document.createElement('div');\n",
              "          docLink.innerHTML = docLinkHtml;\n",
              "          element.appendChild(docLink);\n",
              "        }\n",
              "      </script>\n",
              "    </div>\n",
              "  </div>\n",
              "  "
            ]
          },
          "metadata": {},
          "execution_count": 4
        }
      ],
      "source": [
        "df.head(7)"
      ]
    },
    {
      "cell_type": "markdown",
      "id": "87375d0b",
      "metadata": {
        "id": "87375d0b"
      },
      "source": [
        "## Checking whether null values are present or not"
      ]
    },
    {
      "cell_type": "code",
      "execution_count": null,
      "id": "9ffc2014",
      "metadata": {
        "colab": {
          "base_uri": "https://localhost:8080/"
        },
        "id": "9ffc2014",
        "outputId": "a8982ff4-341a-4262-f07a-c278712a5523"
      },
      "outputs": [
        {
          "output_type": "execute_result",
          "data": {
            "text/plain": [
              "10th Marks            0\n",
              "Medium                0\n",
              "Board                 0\n",
              "Intermediate marks    0\n",
              "Eamcet Rank           0\n",
              "Attendance            0\n",
              "Backlogs              0\n",
              "Education gaps        0\n",
              "Parents Status        0\n",
              "Health                0\n",
              "Disability            0\n",
              "Maritial Status       0\n",
              "Parents Education     0\n",
              "Sports                0\n",
              "Logical thinking      0\n",
              "degree marks          0\n",
              "dtype: int64"
            ]
          },
          "metadata": {},
          "execution_count": 5
        }
      ],
      "source": [
        "df.isnull().sum()"
      ]
    },
    {
      "cell_type": "markdown",
      "id": "1a476b95",
      "metadata": {
        "id": "1a476b95"
      },
      "source": [
        "## Data Transformation:Converting the categorical data into numerical data"
      ]
    },
    {
      "cell_type": "code",
      "execution_count": null,
      "id": "dfc7d5e6",
      "metadata": {
        "colab": {
          "base_uri": "https://localhost:8080/"
        },
        "id": "dfc7d5e6",
        "outputId": "7c6bb8ef-9258-4b03-afe5-879eca905b26"
      },
      "outputs": [
        {
          "output_type": "stream",
          "name": "stdout",
          "text": [
            "<class 'pandas.core.frame.DataFrame'>\n",
            "RangeIndex: 19320 entries, 0 to 19319\n",
            "Data columns (total 16 columns):\n",
            " #   Column              Non-Null Count  Dtype  \n",
            "---  ------              --------------  -----  \n",
            " 0   10th Marks          19320 non-null  float64\n",
            " 1   Medium              19320 non-null  object \n",
            " 2   Board               19320 non-null  object \n",
            " 3   Intermediate marks  19320 non-null  int64  \n",
            " 4   Eamcet Rank         19320 non-null  int64  \n",
            " 5   Attendance          19320 non-null  int64  \n",
            " 6   Backlogs            19320 non-null  int64  \n",
            " 7   Education gaps      19320 non-null  int64  \n",
            " 8   Parents Status      19320 non-null  object \n",
            " 9   Health              19320 non-null  object \n",
            " 10  Disability          19320 non-null  object \n",
            " 11  Maritial Status     19320 non-null  object \n",
            " 12  Parents Education   19320 non-null  object \n",
            " 13  Sports              19320 non-null  object \n",
            " 14  Logical thinking    19320 non-null  object \n",
            " 15  degree marks        19320 non-null  object \n",
            "dtypes: float64(1), int64(5), object(10)\n",
            "memory usage: 2.4+ MB\n"
          ]
        }
      ],
      "source": [
        "df.info()"
      ]
    },
    {
      "cell_type": "code",
      "source": [
        "df.dtypes"
      ],
      "metadata": {
        "colab": {
          "base_uri": "https://localhost:8080/"
        },
        "id": "PXx9RRH0oPAC",
        "outputId": "6d361b3e-802e-4bc6-8c5d-8899e36d810e"
      },
      "id": "PXx9RRH0oPAC",
      "execution_count": null,
      "outputs": [
        {
          "output_type": "execute_result",
          "data": {
            "text/plain": [
              "10th Marks            float64\n",
              "Medium                 object\n",
              "Board                  object\n",
              "Intermediate marks      int64\n",
              "Eamcet Rank             int64\n",
              "Attendance              int64\n",
              "Backlogs                int64\n",
              "Education gaps          int64\n",
              "Parents Status         object\n",
              "Health                 object\n",
              "Disability             object\n",
              "Maritial Status        object\n",
              "Parents Education      object\n",
              "Sports                 object\n",
              "Logical thinking       object\n",
              "degree marks           object\n",
              "dtype: object"
            ]
          },
          "metadata": {},
          "execution_count": 7
        }
      ]
    },
    {
      "cell_type": "code",
      "execution_count": null,
      "id": "f5a5c86b",
      "metadata": {
        "colab": {
          "base_uri": "https://localhost:8080/"
        },
        "id": "f5a5c86b",
        "outputId": "b41417cb-a746-4fdb-a366-29ee9c8387f1"
      },
      "outputs": [
        {
          "output_type": "execute_result",
          "data": {
            "text/plain": [
              "english    9753\n",
              "telugu     9567\n",
              "Name: Medium, dtype: int64"
            ]
          },
          "metadata": {},
          "execution_count": 8
        }
      ],
      "source": [
        "# Lets check the data in the medium column\n",
        "df['Medium'].value_counts()"
      ]
    },
    {
      "cell_type": "code",
      "execution_count": null,
      "id": "41af0696",
      "metadata": {
        "id": "41af0696"
      },
      "outputs": [],
      "source": [
        "## Replacing the english with '0' and telugu to '1'\n",
        "df['Medium']=df['Medium'].replace(('english','telugu'),(0,1))"
      ]
    },
    {
      "cell_type": "code",
      "execution_count": null,
      "id": "609653d4",
      "metadata": {
        "colab": {
          "base_uri": "https://localhost:8080/"
        },
        "id": "609653d4",
        "outputId": "f92225d7-4e60-4e62-e72c-63943696360f"
      },
      "outputs": [
        {
          "output_type": "execute_result",
          "data": {
            "text/plain": [
              "CBSE     6610\n",
              "State    6489\n",
              "ICSE     6221\n",
              "Name: Board, dtype: int64"
            ]
          },
          "metadata": {},
          "execution_count": 10
        }
      ],
      "source": [
        "# Lets check the data in the board column\n",
        "df['Board'].value_counts()"
      ]
    },
    {
      "cell_type": "code",
      "execution_count": null,
      "id": "73238281",
      "metadata": {
        "id": "73238281"
      },
      "outputs": [],
      "source": [
        "## Replacing the CBSE with '0' and ICSE to '1' and State with '2'\n",
        "df['Board']=df['Board'].replace(('CBSE','ICSE','State'),(0,1,2))"
      ]
    },
    {
      "cell_type": "code",
      "execution_count": null,
      "id": "e6a21bf4",
      "metadata": {
        "colab": {
          "base_uri": "https://localhost:8080/"
        },
        "id": "e6a21bf4",
        "outputId": "ecd709a9-c932-465d-c481-2f9c1cd7521a"
      },
      "outputs": [
        {
          "output_type": "execute_result",
          "data": {
            "text/plain": [
              "Normal        6590\n",
              "Divorced      6431\n",
              "passed_out    6299\n",
              "Name: Parents Status, dtype: int64"
            ]
          },
          "metadata": {},
          "execution_count": 12
        }
      ],
      "source": [
        "# Lets check the data in the Parents Status column\n",
        "df['Parents Status'].value_counts()"
      ]
    },
    {
      "cell_type": "code",
      "execution_count": null,
      "id": "183dbd31",
      "metadata": {
        "id": "183dbd31"
      },
      "outputs": [],
      "source": [
        "## Replacing the passed_out with '0' and Divorced to '1' and Normal with '2'\n",
        "df['Parents Status']=df['Parents Status'].replace(('passed_out','Divorced','Normal'),(0,1,2))"
      ]
    },
    {
      "cell_type": "code",
      "execution_count": null,
      "id": "a730a946",
      "metadata": {
        "colab": {
          "base_uri": "https://localhost:8080/"
        },
        "id": "a730a946",
        "outputId": "1664ecca-8748-4590-caf5-41f5a9a6b57a"
      },
      "outputs": [
        {
          "output_type": "execute_result",
          "data": {
            "text/plain": [
              "Good       6504\n",
              "Average    6411\n",
              "Bad        6405\n",
              "Name: Health, dtype: int64"
            ]
          },
          "metadata": {},
          "execution_count": 14
        }
      ],
      "source": [
        "# Lets check the data in the Health column\n",
        "df['Health'].value_counts()"
      ]
    },
    {
      "cell_type": "code",
      "execution_count": null,
      "id": "89cad4d4",
      "metadata": {
        "id": "89cad4d4"
      },
      "outputs": [],
      "source": [
        "## Replacing the Bad with '0' and Good to '1' and Average with '2'\n",
        "df['Health']=df['Health'].replace(('Bad','Good','Average'),(0,1,2))"
      ]
    },
    {
      "cell_type": "code",
      "execution_count": null,
      "id": "3d5f83f3",
      "metadata": {
        "colab": {
          "base_uri": "https://localhost:8080/"
        },
        "id": "3d5f83f3",
        "outputId": "24a7cbcd-7466-4b5a-f98c-10007704a2d3"
      },
      "outputs": [
        {
          "output_type": "execute_result",
          "data": {
            "text/plain": [
              "yes    9994\n",
              "no     9326\n",
              "Name: Disability, dtype: int64"
            ]
          },
          "metadata": {},
          "execution_count": 16
        }
      ],
      "source": [
        "# Lets check the data in the Disability column\n",
        "df['Disability'].value_counts()"
      ]
    },
    {
      "cell_type": "code",
      "execution_count": null,
      "id": "df8f9b8c",
      "metadata": {
        "id": "df8f9b8c"
      },
      "outputs": [],
      "source": [
        "## Replacing the yes with '0' and no to '1'\n",
        "df['Disability']=df['Disability'].replace(('yes','no'),(0,1))"
      ]
    },
    {
      "cell_type": "code",
      "execution_count": null,
      "id": "91f8a2e7",
      "metadata": {
        "colab": {
          "base_uri": "https://localhost:8080/"
        },
        "id": "91f8a2e7",
        "outputId": "0c4e27d9-051b-48ee-cad6-05b76cae6e0e"
      },
      "outputs": [
        {
          "output_type": "execute_result",
          "data": {
            "text/plain": [
              "no     9711\n",
              "yes    9609\n",
              "Name: Maritial Status, dtype: int64"
            ]
          },
          "metadata": {},
          "execution_count": 18
        }
      ],
      "source": [
        "# Lets check the data in the Maritial Status column\n",
        "df['Maritial Status'].value_counts()"
      ]
    },
    {
      "cell_type": "code",
      "execution_count": null,
      "id": "60689331",
      "metadata": {
        "id": "60689331"
      },
      "outputs": [],
      "source": [
        "## Replacing the yes with '0' and no to '1'\n",
        "df['Maritial Status']=df['Maritial Status'].replace(('yes','no'),(0,1))"
      ]
    },
    {
      "cell_type": "code",
      "execution_count": null,
      "id": "464567bc",
      "metadata": {
        "id": "464567bc"
      },
      "outputs": [],
      "source": [
        "## Replacing the yes with '0' and no to '1'\n",
        "df['Parents Education']=df['Parents Education'].replace(('yes','no'),(0,1))"
      ]
    },
    {
      "cell_type": "code",
      "execution_count": null,
      "id": "9358982c",
      "metadata": {
        "colab": {
          "base_uri": "https://localhost:8080/"
        },
        "id": "9358982c",
        "outputId": "c4c7c873-aa46-481f-c641-efdf3b89145e"
      },
      "outputs": [
        {
          "output_type": "execute_result",
          "data": {
            "text/plain": [
              "yes    9782\n",
              "no     9538\n",
              "Name: Parents Education, dtype: int64"
            ]
          },
          "metadata": {},
          "execution_count": 20
        }
      ],
      "source": [
        "# Lets check the data in the Parents Education column\n",
        "df['Parents Education'].value_counts()"
      ]
    },
    {
      "cell_type": "code",
      "execution_count": null,
      "id": "0bc35766",
      "metadata": {
        "colab": {
          "base_uri": "https://localhost:8080/"
        },
        "id": "0bc35766",
        "outputId": "6f6cac01-383e-4994-a32d-9e0951357205"
      },
      "outputs": [
        {
          "output_type": "execute_result",
          "data": {
            "text/plain": [
              "0    9950\n",
              "1    9370\n",
              "Name: Sports, dtype: int64"
            ]
          },
          "metadata": {},
          "execution_count": 24
        }
      ],
      "source": [
        "\n",
        "# Lets check the data in the Sports column\n",
        "df['Sports'].value_counts()"
      ]
    },
    {
      "cell_type": "code",
      "execution_count": null,
      "id": "cb266411",
      "metadata": {
        "id": "cb266411"
      },
      "outputs": [],
      "source": [
        "## Replacing the non_active with '0' and Active to '1'\n",
        "df['Sports']=df['Sports'].replace(('non_active','Active'),(0,1))"
      ]
    },
    {
      "cell_type": "code",
      "execution_count": null,
      "id": "809797ea",
      "metadata": {
        "id": "809797ea"
      },
      "outputs": [],
      "source": [
        "## Replacing the non_active with '0' and Active to '1'\n",
        "df['Parents Education']=df['Parents Education'].replace(('non_active','Active'),(0,1))"
      ]
    },
    {
      "cell_type": "code",
      "execution_count": null,
      "id": "9e481f85",
      "metadata": {
        "colab": {
          "base_uri": "https://localhost:8080/"
        },
        "id": "9e481f85",
        "outputId": "02f65407-8c64-4831-a93e-6f7e6e7f0353"
      },
      "outputs": [
        {
          "output_type": "execute_result",
          "data": {
            "text/plain": [
              "participated        9723\n",
              "not_participated    9597\n",
              "Name: Logical thinking, dtype: int64"
            ]
          },
          "metadata": {},
          "execution_count": 26
        }
      ],
      "source": [
        "# Lets check the data in the Logical thinking column\n",
        "df['Logical thinking'].value_counts()"
      ]
    },
    {
      "cell_type": "code",
      "execution_count": null,
      "id": "9891e134",
      "metadata": {
        "id": "9891e134"
      },
      "outputs": [],
      "source": [
        "## Replacing the not_participated with '0' and participated to '1'\n",
        "df['Logical thinking']=df['Logical thinking'].replace(('not_participated','participated'),(0,1))"
      ]
    },
    {
      "cell_type": "code",
      "execution_count": null,
      "id": "7e7cd778",
      "metadata": {
        "colab": {
          "base_uri": "https://localhost:8080/"
        },
        "id": "7e7cd778",
        "outputId": "6825f0bd-6b70-43fc-f587-0f291d8948af"
      },
      "outputs": [
        {
          "output_type": "execute_result",
          "data": {
            "text/plain": [
              "10th Marks            float64\n",
              "Medium                  int64\n",
              "Board                   int64\n",
              "Intermediate marks      int64\n",
              "Eamcet Rank             int64\n",
              "Attendance              int64\n",
              "Backlogs                int64\n",
              "Education gaps          int64\n",
              "Parents Status          int64\n",
              "Health                  int64\n",
              "Disability              int64\n",
              "Maritial Status         int64\n",
              "Parents Education       int64\n",
              "Sports                  int64\n",
              "Logical thinking        int64\n",
              "degree marks           object\n",
              "dtype: object"
            ]
          },
          "metadata": {},
          "execution_count": 28
        }
      ],
      "source": [
        "df.dtypes"
      ]
    },
    {
      "cell_type": "code",
      "execution_count": null,
      "id": "0a17aa99",
      "metadata": {
        "id": "0a17aa99"
      },
      "outputs": [],
      "source": [
        "## Lets seperate the input and output column\n",
        "x=df.drop(['degree marks'],axis=1)\n",
        "y=df['degree marks']"
      ]
    },
    {
      "cell_type": "code",
      "execution_count": null,
      "id": "e6fa5e51",
      "metadata": {
        "colab": {
          "base_uri": "https://localhost:8080/",
          "height": 267
        },
        "id": "e6fa5e51",
        "outputId": "0718c50d-990b-4357-aabe-4391f8c18988"
      },
      "outputs": [
        {
          "output_type": "execute_result",
          "data": {
            "text/plain": [
              "   10th Marks  Medium  Board  Intermediate marks  Eamcet Rank  Attendance  \\\n",
              "0         5.9       0      1                 719        42814          76   \n",
              "1         8.0       1      0                 772        46663         148   \n",
              "2         8.3       1      2                 598        29287          91   \n",
              "3         8.0       1      0                 898         4912          60   \n",
              "4         8.7       1      1                 535        29961         102   \n",
              "\n",
              "   Backlogs   Education gaps  Parents Status  Health  Disability  \\\n",
              "0          3               2               2       2           1   \n",
              "1          6               1               0       0           1   \n",
              "2          4               2               2       1           0   \n",
              "3          3               0               2       1           0   \n",
              "4          3               0               1       0           1   \n",
              "\n",
              "   Maritial Status  Parents Education  Sports  Logical thinking  \n",
              "0                0                  1       1                 0  \n",
              "1                1                  1       0                 1  \n",
              "2                1                  0       1                 1  \n",
              "3                0                  1       0                 0  \n",
              "4                0                  0       1                 0  "
            ],
            "text/html": [
              "\n",
              "  <div id=\"df-c6abb687-1e02-422c-9f6e-c355affb2d03\">\n",
              "    <div class=\"colab-df-container\">\n",
              "      <div>\n",
              "<style scoped>\n",
              "    .dataframe tbody tr th:only-of-type {\n",
              "        vertical-align: middle;\n",
              "    }\n",
              "\n",
              "    .dataframe tbody tr th {\n",
              "        vertical-align: top;\n",
              "    }\n",
              "\n",
              "    .dataframe thead th {\n",
              "        text-align: right;\n",
              "    }\n",
              "</style>\n",
              "<table border=\"1\" class=\"dataframe\">\n",
              "  <thead>\n",
              "    <tr style=\"text-align: right;\">\n",
              "      <th></th>\n",
              "      <th>10th Marks</th>\n",
              "      <th>Medium</th>\n",
              "      <th>Board</th>\n",
              "      <th>Intermediate marks</th>\n",
              "      <th>Eamcet Rank</th>\n",
              "      <th>Attendance</th>\n",
              "      <th>Backlogs</th>\n",
              "      <th>Education gaps</th>\n",
              "      <th>Parents Status</th>\n",
              "      <th>Health</th>\n",
              "      <th>Disability</th>\n",
              "      <th>Maritial Status</th>\n",
              "      <th>Parents Education</th>\n",
              "      <th>Sports</th>\n",
              "      <th>Logical thinking</th>\n",
              "    </tr>\n",
              "  </thead>\n",
              "  <tbody>\n",
              "    <tr>\n",
              "      <th>0</th>\n",
              "      <td>5.9</td>\n",
              "      <td>0</td>\n",
              "      <td>1</td>\n",
              "      <td>719</td>\n",
              "      <td>42814</td>\n",
              "      <td>76</td>\n",
              "      <td>3</td>\n",
              "      <td>2</td>\n",
              "      <td>2</td>\n",
              "      <td>2</td>\n",
              "      <td>1</td>\n",
              "      <td>0</td>\n",
              "      <td>1</td>\n",
              "      <td>1</td>\n",
              "      <td>0</td>\n",
              "    </tr>\n",
              "    <tr>\n",
              "      <th>1</th>\n",
              "      <td>8.0</td>\n",
              "      <td>1</td>\n",
              "      <td>0</td>\n",
              "      <td>772</td>\n",
              "      <td>46663</td>\n",
              "      <td>148</td>\n",
              "      <td>6</td>\n",
              "      <td>1</td>\n",
              "      <td>0</td>\n",
              "      <td>0</td>\n",
              "      <td>1</td>\n",
              "      <td>1</td>\n",
              "      <td>1</td>\n",
              "      <td>0</td>\n",
              "      <td>1</td>\n",
              "    </tr>\n",
              "    <tr>\n",
              "      <th>2</th>\n",
              "      <td>8.3</td>\n",
              "      <td>1</td>\n",
              "      <td>2</td>\n",
              "      <td>598</td>\n",
              "      <td>29287</td>\n",
              "      <td>91</td>\n",
              "      <td>4</td>\n",
              "      <td>2</td>\n",
              "      <td>2</td>\n",
              "      <td>1</td>\n",
              "      <td>0</td>\n",
              "      <td>1</td>\n",
              "      <td>0</td>\n",
              "      <td>1</td>\n",
              "      <td>1</td>\n",
              "    </tr>\n",
              "    <tr>\n",
              "      <th>3</th>\n",
              "      <td>8.0</td>\n",
              "      <td>1</td>\n",
              "      <td>0</td>\n",
              "      <td>898</td>\n",
              "      <td>4912</td>\n",
              "      <td>60</td>\n",
              "      <td>3</td>\n",
              "      <td>0</td>\n",
              "      <td>2</td>\n",
              "      <td>1</td>\n",
              "      <td>0</td>\n",
              "      <td>0</td>\n",
              "      <td>1</td>\n",
              "      <td>0</td>\n",
              "      <td>0</td>\n",
              "    </tr>\n",
              "    <tr>\n",
              "      <th>4</th>\n",
              "      <td>8.7</td>\n",
              "      <td>1</td>\n",
              "      <td>1</td>\n",
              "      <td>535</td>\n",
              "      <td>29961</td>\n",
              "      <td>102</td>\n",
              "      <td>3</td>\n",
              "      <td>0</td>\n",
              "      <td>1</td>\n",
              "      <td>0</td>\n",
              "      <td>1</td>\n",
              "      <td>0</td>\n",
              "      <td>0</td>\n",
              "      <td>1</td>\n",
              "      <td>0</td>\n",
              "    </tr>\n",
              "  </tbody>\n",
              "</table>\n",
              "</div>\n",
              "      <button class=\"colab-df-convert\" onclick=\"convertToInteractive('df-c6abb687-1e02-422c-9f6e-c355affb2d03')\"\n",
              "              title=\"Convert this dataframe to an interactive table.\"\n",
              "              style=\"display:none;\">\n",
              "        \n",
              "  <svg xmlns=\"http://www.w3.org/2000/svg\" height=\"24px\"viewBox=\"0 0 24 24\"\n",
              "       width=\"24px\">\n",
              "    <path d=\"M0 0h24v24H0V0z\" fill=\"none\"/>\n",
              "    <path d=\"M18.56 5.44l.94 2.06.94-2.06 2.06-.94-2.06-.94-.94-2.06-.94 2.06-2.06.94zm-11 1L8.5 8.5l.94-2.06 2.06-.94-2.06-.94L8.5 2.5l-.94 2.06-2.06.94zm10 10l.94 2.06.94-2.06 2.06-.94-2.06-.94-.94-2.06-.94 2.06-2.06.94z\"/><path d=\"M17.41 7.96l-1.37-1.37c-.4-.4-.92-.59-1.43-.59-.52 0-1.04.2-1.43.59L10.3 9.45l-7.72 7.72c-.78.78-.78 2.05 0 2.83L4 21.41c.39.39.9.59 1.41.59.51 0 1.02-.2 1.41-.59l7.78-7.78 2.81-2.81c.8-.78.8-2.07 0-2.86zM5.41 20L4 18.59l7.72-7.72 1.47 1.35L5.41 20z\"/>\n",
              "  </svg>\n",
              "      </button>\n",
              "      \n",
              "  <style>\n",
              "    .colab-df-container {\n",
              "      display:flex;\n",
              "      flex-wrap:wrap;\n",
              "      gap: 12px;\n",
              "    }\n",
              "\n",
              "    .colab-df-convert {\n",
              "      background-color: #E8F0FE;\n",
              "      border: none;\n",
              "      border-radius: 50%;\n",
              "      cursor: pointer;\n",
              "      display: none;\n",
              "      fill: #1967D2;\n",
              "      height: 32px;\n",
              "      padding: 0 0 0 0;\n",
              "      width: 32px;\n",
              "    }\n",
              "\n",
              "    .colab-df-convert:hover {\n",
              "      background-color: #E2EBFA;\n",
              "      box-shadow: 0px 1px 2px rgba(60, 64, 67, 0.3), 0px 1px 3px 1px rgba(60, 64, 67, 0.15);\n",
              "      fill: #174EA6;\n",
              "    }\n",
              "\n",
              "    [theme=dark] .colab-df-convert {\n",
              "      background-color: #3B4455;\n",
              "      fill: #D2E3FC;\n",
              "    }\n",
              "\n",
              "    [theme=dark] .colab-df-convert:hover {\n",
              "      background-color: #434B5C;\n",
              "      box-shadow: 0px 1px 3px 1px rgba(0, 0, 0, 0.15);\n",
              "      filter: drop-shadow(0px 1px 2px rgba(0, 0, 0, 0.3));\n",
              "      fill: #FFFFFF;\n",
              "    }\n",
              "  </style>\n",
              "\n",
              "      <script>\n",
              "        const buttonEl =\n",
              "          document.querySelector('#df-c6abb687-1e02-422c-9f6e-c355affb2d03 button.colab-df-convert');\n",
              "        buttonEl.style.display =\n",
              "          google.colab.kernel.accessAllowed ? 'block' : 'none';\n",
              "\n",
              "        async function convertToInteractive(key) {\n",
              "          const element = document.querySelector('#df-c6abb687-1e02-422c-9f6e-c355affb2d03');\n",
              "          const dataTable =\n",
              "            await google.colab.kernel.invokeFunction('convertToInteractive',\n",
              "                                                     [key], {});\n",
              "          if (!dataTable) return;\n",
              "\n",
              "          const docLinkHtml = 'Like what you see? Visit the ' +\n",
              "            '<a target=\"_blank\" href=https://colab.research.google.com/notebooks/data_table.ipynb>data table notebook</a>'\n",
              "            + ' to learn more about interactive tables.';\n",
              "          element.innerHTML = '';\n",
              "          dataTable['output_type'] = 'display_data';\n",
              "          await google.colab.output.renderOutput(dataTable, element);\n",
              "          const docLink = document.createElement('div');\n",
              "          docLink.innerHTML = docLinkHtml;\n",
              "          element.appendChild(docLink);\n",
              "        }\n",
              "      </script>\n",
              "    </div>\n",
              "  </div>\n",
              "  "
            ]
          },
          "metadata": {},
          "execution_count": 30
        }
      ],
      "source": [
        "## Diplaying the top 5 rows of the input data\n",
        "x.head()"
      ]
    },
    {
      "cell_type": "code",
      "source": [
        "x.shape"
      ],
      "metadata": {
        "colab": {
          "base_uri": "https://localhost:8080/"
        },
        "id": "4F2Rcm3op20b",
        "outputId": "29dbf150-f8d4-4533-a536-7731d682e017"
      },
      "id": "4F2Rcm3op20b",
      "execution_count": null,
      "outputs": [
        {
          "output_type": "execute_result",
          "data": {
            "text/plain": [
              "(19320, 15)"
            ]
          },
          "metadata": {},
          "execution_count": 31
        }
      ]
    },
    {
      "cell_type": "code",
      "execution_count": null,
      "id": "50428b36",
      "metadata": {
        "colab": {
          "base_uri": "https://localhost:8080/"
        },
        "id": "50428b36",
        "outputId": "900295cc-4049-4c56-e21d-1132d8d12c50"
      },
      "outputs": [
        {
          "output_type": "execute_result",
          "data": {
            "text/plain": [
              "0    first_class\n",
              "1     Destincton\n",
              "2    first_class\n",
              "3    first_class\n",
              "4     pass_class\n",
              "Name: degree marks, dtype: object"
            ]
          },
          "metadata": {},
          "execution_count": 32
        }
      ],
      "source": [
        "## Diplaying the top 5 rows of the output data\n",
        "y.head()"
      ]
    },
    {
      "cell_type": "code",
      "source": [
        "y.shape"
      ],
      "metadata": {
        "colab": {
          "base_uri": "https://localhost:8080/"
        },
        "id": "p6l7v2mVplOX",
        "outputId": "5f8dd862-085b-4831-aa2d-d5682ea8301b"
      },
      "id": "p6l7v2mVplOX",
      "execution_count": null,
      "outputs": [
        {
          "output_type": "execute_result",
          "data": {
            "text/plain": [
              "(19320,)"
            ]
          },
          "metadata": {},
          "execution_count": 33
        }
      ]
    },
    {
      "cell_type": "markdown",
      "source": [
        "<h3> Train and Test Data"
      ],
      "metadata": {
        "id": "w2-aXE4VrLP_"
      },
      "id": "w2-aXE4VrLP_"
    },
    {
      "cell_type": "code",
      "execution_count": null,
      "id": "2153e635",
      "metadata": {
        "id": "2153e635"
      },
      "outputs": [],
      "source": [
        "## Lets implement the training data and testing data\n",
        "from sklearn.model_selection import train_test_split"
      ]
    },
    {
      "cell_type": "code",
      "execution_count": null,
      "id": "486185de",
      "metadata": {
        "id": "486185de"
      },
      "outputs": [],
      "source": [
        "## Lets divide the data into the training and testing and store the data in the variables\n",
        "x_train,x_test,y_train,y_test=train_test_split(x,y,test_size=0.2)"
      ]
    },
    {
      "cell_type": "markdown",
      "source": [
        "<h3>RandomForest Algorithm"
      ],
      "metadata": {
        "id": "BpgF_8Cdi-EL"
      },
      "id": "BpgF_8Cdi-EL"
    },
    {
      "cell_type": "code",
      "execution_count": null,
      "id": "457665f1",
      "metadata": {
        "id": "457665f1"
      },
      "outputs": [],
      "source": [
        "from sklearn.ensemble import RandomForestClassifier"
      ]
    },
    {
      "cell_type": "code",
      "execution_count": null,
      "id": "c1d30a39",
      "metadata": {
        "id": "c1d30a39"
      },
      "outputs": [],
      "source": [
        "rf=RandomForestClassifier()"
      ]
    },
    {
      "cell_type": "code",
      "execution_count": null,
      "id": "04cef019",
      "metadata": {
        "colab": {
          "base_uri": "https://localhost:8080/"
        },
        "id": "04cef019",
        "outputId": "c7a1ac81-06a0-440f-91d9-9c3f3604583e"
      },
      "outputs": [
        {
          "output_type": "execute_result",
          "data": {
            "text/plain": [
              "RandomForestClassifier()"
            ]
          },
          "metadata": {},
          "execution_count": 38
        }
      ],
      "source": [
        "rf.fit(x_train,y_train)"
      ]
    },
    {
      "cell_type": "code",
      "execution_count": null,
      "id": "78d05ef8",
      "metadata": {
        "id": "78d05ef8"
      },
      "outputs": [],
      "source": [
        "y_pred=rf.predict(x_test)"
      ]
    },
    {
      "cell_type": "code",
      "execution_count": null,
      "id": "4fed7a5b",
      "metadata": {
        "id": "4fed7a5b"
      },
      "outputs": [],
      "source": [
        "from sklearn.metrics import accuracy_score"
      ]
    },
    {
      "cell_type": "code",
      "execution_count": null,
      "id": "64aaa5ef",
      "metadata": {
        "id": "64aaa5ef"
      },
      "outputs": [],
      "source": [
        "a1=accuracy_score(y_test,y_pred)"
      ]
    },
    {
      "cell_type": "code",
      "execution_count": null,
      "id": "fca4fa00",
      "metadata": {
        "colab": {
          "base_uri": "https://localhost:8080/"
        },
        "id": "fca4fa00",
        "outputId": "00970c21-1748-4701-d045-1ab9dd0aef4a"
      },
      "outputs": [
        {
          "output_type": "execute_result",
          "data": {
            "text/plain": [
              "0.9019151138716356"
            ]
          },
          "metadata": {},
          "execution_count": 42
        }
      ],
      "source": [
        "a1"
      ]
    },
    {
      "cell_type": "code",
      "execution_count": null,
      "id": "b8db675e",
      "metadata": {
        "id": "b8db675e"
      },
      "outputs": [],
      "source": [
        "from sklearn.metrics import classification_report"
      ]
    },
    {
      "cell_type": "code",
      "execution_count": null,
      "id": "ad71ed1c",
      "metadata": {
        "colab": {
          "base_uri": "https://localhost:8080/"
        },
        "id": "ad71ed1c",
        "outputId": "7f7d269b-902b-44c2-c27f-79bfe97d46ee"
      },
      "outputs": [
        {
          "output_type": "stream",
          "name": "stdout",
          "text": [
            "              precision    recall  f1-score   support\n",
            "\n",
            "  Destincton       0.90      0.93      0.91       997\n",
            " first_class       0.87      0.90      0.88       888\n",
            "  pass_class       0.92      0.89      0.91      1040\n",
            "second_class       0.92      0.89      0.90       939\n",
            "\n",
            "    accuracy                           0.90      3864\n",
            "   macro avg       0.90      0.90      0.90      3864\n",
            "weighted avg       0.90      0.90      0.90      3864\n",
            "\n"
          ]
        }
      ],
      "source": [
        "print(classification_report(y_test,y_pred))"
      ]
    },
    {
      "cell_type": "code",
      "execution_count": null,
      "id": "278752c4",
      "metadata": {
        "colab": {
          "base_uri": "https://localhost:8080/"
        },
        "id": "278752c4",
        "outputId": "ac3bacd3-93e5-4f33-d770-8002d4948fe3"
      },
      "outputs": [
        {
          "output_type": "execute_result",
          "data": {
            "text/plain": [
              "Index(['10th Marks', 'Medium', 'Board', 'Intermediate marks', 'Eamcet Rank',\n",
              "       'Attendance', 'Backlogs ', 'Education gaps', 'Parents Status', 'Health',\n",
              "       'Disability', 'Maritial Status', 'Parents Education', 'Sports',\n",
              "       'Logical thinking'],\n",
              "      dtype='object')"
            ]
          },
          "metadata": {},
          "execution_count": 45
        }
      ],
      "source": [
        "x.keys()"
      ]
    },
    {
      "cell_type": "code",
      "execution_count": null,
      "id": "28e38d7d",
      "metadata": {
        "colab": {
          "base_uri": "https://localhost:8080/"
        },
        "id": "28e38d7d",
        "outputId": "cceaa88a-821d-460d-d826-a6f3035368d9"
      },
      "outputs": [
        {
          "output_type": "stream",
          "name": "stderr",
          "text": [
            "/usr/local/lib/python3.7/dist-packages/sklearn/base.py:451: UserWarning: X does not have valid feature names, but RandomForestClassifier was fitted with feature names\n",
            "  \"X does not have valid feature names, but\"\n"
          ]
        },
        {
          "output_type": "execute_result",
          "data": {
            "text/plain": [
              "array(['second_class'], dtype=object)"
            ]
          },
          "metadata": {},
          "execution_count": 46
        }
      ],
      "source": [
        "rf.predict([[9,0,2,890,5000,100,6,1,0,0,1,1,1,0,1]])"
      ]
    },
    {
      "cell_type": "code",
      "execution_count": null,
      "id": "104168d0",
      "metadata": {
        "colab": {
          "base_uri": "https://localhost:8080/"
        },
        "id": "104168d0",
        "outputId": "582d5c1d-9cef-4604-a535-708f356c41a4"
      },
      "outputs": [
        {
          "output_type": "stream",
          "name": "stderr",
          "text": [
            "/usr/local/lib/python3.7/dist-packages/sklearn/base.py:451: UserWarning: X does not have valid feature names, but RandomForestClassifier was fitted with feature names\n",
            "  \"X does not have valid feature names, but\"\n"
          ]
        },
        {
          "output_type": "execute_result",
          "data": {
            "text/plain": [
              "array(['pass_class'], dtype=object)"
            ]
          },
          "metadata": {},
          "execution_count": 47
        }
      ],
      "source": [
        "rf.predict([[6,0,2,617,9566,116,6,0,2,2,1,1,1,0,1]])"
      ]
    },
    {
      "cell_type": "code",
      "execution_count": null,
      "id": "edc2cb0a",
      "metadata": {
        "colab": {
          "base_uri": "https://localhost:8080/"
        },
        "id": "edc2cb0a",
        "outputId": "de13c2e6-3bec-4922-e359-dc4b1e1f5895"
      },
      "outputs": [
        {
          "output_type": "stream",
          "name": "stderr",
          "text": [
            "/usr/local/lib/python3.7/dist-packages/sklearn/base.py:451: UserWarning: X does not have valid feature names, but RandomForestClassifier was fitted with feature names\n",
            "  \"X does not have valid feature names, but\"\n"
          ]
        },
        {
          "output_type": "execute_result",
          "data": {
            "text/plain": [
              "array(['first_class'], dtype=object)"
            ]
          },
          "metadata": {},
          "execution_count": 48
        }
      ],
      "source": [
        "rf.predict([[8.5,1,1,791,66835,137,3,0,1,0,0,1,1,1,1]])"
      ]
    },
    {
      "cell_type": "code",
      "execution_count": null,
      "id": "63b2c332",
      "metadata": {
        "id": "63b2c332",
        "outputId": "c8aef546-6577-4084-d4f8-1955a4d5966b",
        "colab": {
          "base_uri": "https://localhost:8080/"
        }
      },
      "outputs": [
        {
          "output_type": "stream",
          "name": "stderr",
          "text": [
            "/usr/local/lib/python3.7/dist-packages/sklearn/base.py:451: UserWarning: X does not have valid feature names, but RandomForestClassifier was fitted with feature names\n",
            "  \"X does not have valid feature names, but\"\n"
          ]
        },
        {
          "output_type": "execute_result",
          "data": {
            "text/plain": [
              "array(['second_class'], dtype=object)"
            ]
          },
          "metadata": {},
          "execution_count": 49
        }
      ],
      "source": [
        "rf.predict([[5.6,1,0,559,31580,65,5,2,0,0,1,0,0,0,1]])"
      ]
    },
    {
      "cell_type": "code",
      "execution_count": null,
      "id": "c14b9732",
      "metadata": {
        "id": "c14b9732"
      },
      "outputs": [],
      "source": [
        "from sklearn.ensemble import GradientBoostingClassifier"
      ]
    },
    {
      "cell_type": "code",
      "execution_count": null,
      "id": "e664e560",
      "metadata": {
        "id": "e664e560"
      },
      "outputs": [],
      "source": [
        "gb=GradientBoostingClassifier()"
      ]
    },
    {
      "cell_type": "code",
      "execution_count": null,
      "id": "fa5eb19d",
      "metadata": {
        "colab": {
          "base_uri": "https://localhost:8080/"
        },
        "id": "fa5eb19d",
        "outputId": "c9f27c28-c0dd-4de2-ba8f-5e83214144e4"
      },
      "outputs": [
        {
          "output_type": "execute_result",
          "data": {
            "text/plain": [
              "GradientBoostingClassifier()"
            ]
          },
          "metadata": {},
          "execution_count": 52
        }
      ],
      "source": [
        "gb.fit(x_train,y_train)"
      ]
    },
    {
      "cell_type": "code",
      "execution_count": null,
      "id": "e4e033b3",
      "metadata": {
        "id": "e4e033b3"
      },
      "outputs": [],
      "source": [
        "y_pred=gb.predict(x_test)"
      ]
    },
    {
      "cell_type": "code",
      "execution_count": null,
      "id": "1a034072",
      "metadata": {
        "id": "1a034072"
      },
      "outputs": [],
      "source": [
        "from sklearn.metrics import accuracy_score"
      ]
    },
    {
      "cell_type": "code",
      "execution_count": null,
      "id": "09db646b",
      "metadata": {
        "id": "09db646b"
      },
      "outputs": [],
      "source": [
        "a2=accuracy_score(y_test,y_pred)"
      ]
    },
    {
      "cell_type": "code",
      "execution_count": null,
      "id": "bf98ed34",
      "metadata": {
        "colab": {
          "base_uri": "https://localhost:8080/"
        },
        "id": "bf98ed34",
        "outputId": "b511308a-f2a9-498e-fb7a-7787320f67fd"
      },
      "outputs": [
        {
          "output_type": "execute_result",
          "data": {
            "text/plain": [
              "0.4469461697722567"
            ]
          },
          "metadata": {},
          "execution_count": 55
        }
      ],
      "source": [
        "a2"
      ]
    },
    {
      "cell_type": "code",
      "execution_count": null,
      "id": "a474e26b",
      "metadata": {
        "id": "a474e26b"
      },
      "outputs": [],
      "source": [
        "from sklearn.metrics import classification_report"
      ]
    },
    {
      "cell_type": "code",
      "execution_count": null,
      "id": "d5a5aa16",
      "metadata": {
        "colab": {
          "base_uri": "https://localhost:8080/"
        },
        "id": "d5a5aa16",
        "outputId": "83d9f1b7-7c71-4b0b-87b2-bc8a12937602"
      },
      "outputs": [
        {
          "output_type": "stream",
          "name": "stdout",
          "text": [
            "              precision    recall  f1-score   support\n",
            "\n",
            "  Destincton       0.45      0.42      0.43       982\n",
            " first_class       0.44      0.44      0.44       967\n",
            "  pass_class       0.45      0.50      0.47      1014\n",
            "second_class       0.45      0.43      0.44       901\n",
            "\n",
            "    accuracy                           0.45      3864\n",
            "   macro avg       0.45      0.45      0.45      3864\n",
            "weighted avg       0.45      0.45      0.45      3864\n",
            "\n"
          ]
        }
      ],
      "source": [
        "print(classification_report(y_test,y_pred))"
      ]
    },
    {
      "cell_type": "code",
      "execution_count": null,
      "id": "e036d534",
      "metadata": {
        "colab": {
          "base_uri": "https://localhost:8080/"
        },
        "id": "e036d534",
        "outputId": "5d0f8d7f-4ed0-485f-c9d6-70598c54a3d0"
      },
      "outputs": [
        {
          "output_type": "stream",
          "name": "stderr",
          "text": [
            "/usr/local/lib/python3.7/dist-packages/sklearn/base.py:451: UserWarning: X does not have valid feature names, but GradientBoostingClassifier was fitted with feature names\n",
            "  \"X does not have valid feature names, but\"\n"
          ]
        },
        {
          "output_type": "execute_result",
          "data": {
            "text/plain": [
              "array(['Destincton'], dtype=object)"
            ]
          },
          "metadata": {},
          "execution_count": 58
        }
      ],
      "source": [
        "gb.predict([[8,1,0,772,46663,148,6,1,0,0,1,1,1,0,1]])"
      ]
    },
    {
      "cell_type": "code",
      "execution_count": null,
      "id": "96679b79",
      "metadata": {
        "colab": {
          "base_uri": "https://localhost:8080/"
        },
        "id": "96679b79",
        "outputId": "e5c4f003-614f-4e70-f6ea-9c0e86f5054f"
      },
      "outputs": [
        {
          "output_type": "stream",
          "name": "stderr",
          "text": [
            "/usr/local/lib/python3.7/dist-packages/sklearn/base.py:451: UserWarning: X does not have valid feature names, but GradientBoostingClassifier was fitted with feature names\n",
            "  \"X does not have valid feature names, but\"\n"
          ]
        },
        {
          "output_type": "execute_result",
          "data": {
            "text/plain": [
              "array(['second_class'], dtype=object)"
            ]
          },
          "metadata": {},
          "execution_count": 59
        }
      ],
      "source": [
        "gb.predict([[6,0,2,617,9566,116,6,0,2,2,1,1,1,0,1]])"
      ]
    },
    {
      "cell_type": "code",
      "execution_count": null,
      "id": "06d845a5",
      "metadata": {
        "id": "06d845a5",
        "outputId": "ab5bacfe-5db7-44b4-e15f-c5caf0782a1f",
        "colab": {
          "base_uri": "https://localhost:8080/"
        }
      },
      "outputs": [
        {
          "output_type": "stream",
          "name": "stderr",
          "text": [
            "/usr/local/lib/python3.7/dist-packages/sklearn/base.py:451: UserWarning: X does not have valid feature names, but GradientBoostingClassifier was fitted with feature names\n",
            "  \"X does not have valid feature names, but\"\n"
          ]
        },
        {
          "output_type": "execute_result",
          "data": {
            "text/plain": [
              "array(['first_class'], dtype=object)"
            ]
          },
          "metadata": {},
          "execution_count": 60
        }
      ],
      "source": [
        "gb.predict([[8.5,1,1,791,66835,137,3,0,1,0,0,1,1,1,1]])"
      ]
    },
    {
      "cell_type": "code",
      "execution_count": null,
      "id": "99524468",
      "metadata": {
        "id": "99524468"
      },
      "outputs": [],
      "source": [
        "from sklearn.svm import SVC"
      ]
    },
    {
      "cell_type": "code",
      "execution_count": null,
      "id": "a44aacbf",
      "metadata": {
        "id": "a44aacbf"
      },
      "outputs": [],
      "source": [
        "sv=SVC()"
      ]
    },
    {
      "cell_type": "code",
      "execution_count": null,
      "id": "a5227f47",
      "metadata": {
        "colab": {
          "base_uri": "https://localhost:8080/"
        },
        "id": "a5227f47",
        "outputId": "7454aded-9b1d-4090-8bbc-3e71cfbc23a9"
      },
      "outputs": [
        {
          "output_type": "execute_result",
          "data": {
            "text/plain": [
              "SVC()"
            ]
          },
          "metadata": {},
          "execution_count": 63
        }
      ],
      "source": [
        "sv.fit(x_train,y_train)"
      ]
    },
    {
      "cell_type": "code",
      "execution_count": null,
      "id": "dc88159a",
      "metadata": {
        "id": "dc88159a"
      },
      "outputs": [],
      "source": [
        "\n",
        "y_pred=sv.predict(x_test)"
      ]
    },
    {
      "cell_type": "code",
      "execution_count": null,
      "id": "0fef2862",
      "metadata": {
        "id": "0fef2862"
      },
      "outputs": [],
      "source": [
        "from sklearn.metrics import accuracy_score"
      ]
    },
    {
      "cell_type": "code",
      "execution_count": null,
      "id": "8b05b241",
      "metadata": {
        "id": "8b05b241"
      },
      "outputs": [],
      "source": [
        "a3=accuracy_score(y_test,y_pred)"
      ]
    },
    {
      "cell_type": "code",
      "execution_count": null,
      "id": "8660b757",
      "metadata": {
        "colab": {
          "base_uri": "https://localhost:8080/"
        },
        "id": "8660b757",
        "outputId": "c84fe018-22d6-497a-8e0e-8c47f5ad656b"
      },
      "outputs": [
        {
          "output_type": "execute_result",
          "data": {
            "text/plain": [
              "0.26164596273291924"
            ]
          },
          "metadata": {},
          "execution_count": 67
        }
      ],
      "source": [
        "a3"
      ]
    },
    {
      "cell_type": "code",
      "execution_count": null,
      "id": "ff1e3a78",
      "metadata": {
        "id": "ff1e3a78"
      },
      "outputs": [],
      "source": [
        "from sklearn.metrics import classification_report"
      ]
    },
    {
      "cell_type": "code",
      "execution_count": null,
      "id": "ceb4572c",
      "metadata": {
        "colab": {
          "base_uri": "https://localhost:8080/"
        },
        "id": "ceb4572c",
        "outputId": "0e59d5f3-8abf-4f8b-bc8a-80069a834219"
      },
      "outputs": [
        {
          "output_type": "stream",
          "name": "stdout",
          "text": [
            "              precision    recall  f1-score   support\n",
            "\n",
            "  Destincton       0.26      0.41      0.32       982\n",
            " first_class       0.27      0.15      0.19       967\n",
            "  pass_class       0.26      0.45      0.33      1014\n",
            "second_class       0.00      0.00      0.00       901\n",
            "\n",
            "    accuracy                           0.26      3864\n",
            "   macro avg       0.20      0.25      0.21      3864\n",
            "weighted avg       0.20      0.26      0.22      3864\n",
            "\n"
          ]
        },
        {
          "output_type": "stream",
          "name": "stderr",
          "text": [
            "/usr/local/lib/python3.7/dist-packages/sklearn/metrics/_classification.py:1318: UndefinedMetricWarning: Precision and F-score are ill-defined and being set to 0.0 in labels with no predicted samples. Use `zero_division` parameter to control this behavior.\n",
            "  _warn_prf(average, modifier, msg_start, len(result))\n",
            "/usr/local/lib/python3.7/dist-packages/sklearn/metrics/_classification.py:1318: UndefinedMetricWarning: Precision and F-score are ill-defined and being set to 0.0 in labels with no predicted samples. Use `zero_division` parameter to control this behavior.\n",
            "  _warn_prf(average, modifier, msg_start, len(result))\n",
            "/usr/local/lib/python3.7/dist-packages/sklearn/metrics/_classification.py:1318: UndefinedMetricWarning: Precision and F-score are ill-defined and being set to 0.0 in labels with no predicted samples. Use `zero_division` parameter to control this behavior.\n",
            "  _warn_prf(average, modifier, msg_start, len(result))\n"
          ]
        }
      ],
      "source": [
        "print(classification_report(y_test,y_pred))"
      ]
    },
    {
      "cell_type": "code",
      "execution_count": null,
      "id": "6c4287cb",
      "metadata": {
        "id": "6c4287cb"
      },
      "outputs": [],
      "source": [
        "from sklearn.neighbors import KNeighborsClassifier"
      ]
    },
    {
      "cell_type": "code",
      "execution_count": null,
      "id": "ff7fcfee",
      "metadata": {
        "id": "ff7fcfee"
      },
      "outputs": [],
      "source": [
        "knn=KNeighborsClassifier()"
      ]
    },
    {
      "cell_type": "code",
      "execution_count": null,
      "id": "22e4b13d",
      "metadata": {
        "colab": {
          "base_uri": "https://localhost:8080/"
        },
        "id": "22e4b13d",
        "outputId": "98856158-d0ce-468d-8dda-17b50635541a"
      },
      "outputs": [
        {
          "output_type": "execute_result",
          "data": {
            "text/plain": [
              "KNeighborsClassifier()"
            ]
          },
          "metadata": {},
          "execution_count": 72
        }
      ],
      "source": [
        "knn.fit(x_train,y_train)"
      ]
    },
    {
      "cell_type": "code",
      "execution_count": null,
      "id": "3f69b416",
      "metadata": {
        "id": "3f69b416"
      },
      "outputs": [],
      "source": [
        "y_pred=knn.predict(x_test)"
      ]
    },
    {
      "cell_type": "code",
      "execution_count": null,
      "id": "87ab0650",
      "metadata": {
        "id": "87ab0650"
      },
      "outputs": [],
      "source": [
        "from sklearn.metrics import accuracy_score"
      ]
    },
    {
      "cell_type": "code",
      "execution_count": null,
      "id": "d1f08951",
      "metadata": {
        "id": "d1f08951"
      },
      "outputs": [],
      "source": [
        "a4=accuracy_score(y_test,y_pred)"
      ]
    },
    {
      "cell_type": "code",
      "execution_count": null,
      "id": "2dd9d505",
      "metadata": {
        "colab": {
          "base_uri": "https://localhost:8080/"
        },
        "id": "2dd9d505",
        "outputId": "f49e9ca0-493d-4d3e-a543-2223a8a7c222"
      },
      "outputs": [
        {
          "output_type": "execute_result",
          "data": {
            "text/plain": [
              "0.6019668737060041"
            ]
          },
          "metadata": {},
          "execution_count": 76
        }
      ],
      "source": [
        "a4"
      ]
    },
    {
      "cell_type": "code",
      "execution_count": null,
      "id": "8b423f53",
      "metadata": {
        "id": "8b423f53"
      },
      "outputs": [],
      "source": [
        "from sklearn.metrics import classification_report"
      ]
    },
    {
      "cell_type": "code",
      "execution_count": null,
      "id": "fd58ea1b",
      "metadata": {
        "colab": {
          "base_uri": "https://localhost:8080/"
        },
        "id": "fd58ea1b",
        "outputId": "a1ddb1c4-425a-4393-b36f-613b408b6bcc"
      },
      "outputs": [
        {
          "output_type": "stream",
          "name": "stdout",
          "text": [
            "              precision    recall  f1-score   support\n",
            "\n",
            "  Destincton       0.56      0.63      0.60       982\n",
            " first_class       0.57      0.59      0.58       967\n",
            "  pass_class       0.65      0.61      0.63      1014\n",
            "second_class       0.64      0.57      0.61       901\n",
            "\n",
            "    accuracy                           0.60      3864\n",
            "   macro avg       0.61      0.60      0.60      3864\n",
            "weighted avg       0.61      0.60      0.60      3864\n",
            "\n"
          ]
        }
      ],
      "source": [
        "print(classification_report(y_test,y_pred))"
      ]
    },
    {
      "cell_type": "code",
      "execution_count": null,
      "id": "69f64f49",
      "metadata": {
        "id": "69f64f49"
      },
      "outputs": [],
      "source": [
        "data=pd.DataFrame({'Algorithm':['Random Forest','Gradient Boosting','SVM','KNN'],\n",
        "                  'Accuracy':[a1,a2,a3,a4]})"
      ]
    },
    {
      "cell_type": "markdown",
      "source": [
        "<h3>Predict Data"
      ],
      "metadata": {
        "id": "Gq__Wa3DjUeG"
      },
      "id": "Gq__Wa3DjUeG"
    },
    {
      "cell_type": "code",
      "execution_count": null,
      "id": "f182b5e9",
      "metadata": {
        "colab": {
          "base_uri": "https://localhost:8080/",
          "height": 175
        },
        "id": "f182b5e9",
        "outputId": "322ea99d-dc01-42e2-c628-45c9ec6dace3"
      },
      "outputs": [
        {
          "output_type": "execute_result",
          "data": {
            "text/plain": [
              "           Algorithm  Accuracy\n",
              "0      Random Forest  0.917443\n",
              "1  Gradient Boosting  0.446946\n",
              "2                SVM  0.261646\n",
              "3                KNN  0.601967"
            ],
            "text/html": [
              "\n",
              "  <div id=\"df-5ce6cd3a-f0e7-4bf6-91c4-98f8cc7eb5f6\">\n",
              "    <div class=\"colab-df-container\">\n",
              "      <div>\n",
              "<style scoped>\n",
              "    .dataframe tbody tr th:only-of-type {\n",
              "        vertical-align: middle;\n",
              "    }\n",
              "\n",
              "    .dataframe tbody tr th {\n",
              "        vertical-align: top;\n",
              "    }\n",
              "\n",
              "    .dataframe thead th {\n",
              "        text-align: right;\n",
              "    }\n",
              "</style>\n",
              "<table border=\"1\" class=\"dataframe\">\n",
              "  <thead>\n",
              "    <tr style=\"text-align: right;\">\n",
              "      <th></th>\n",
              "      <th>Algorithm</th>\n",
              "      <th>Accuracy</th>\n",
              "    </tr>\n",
              "  </thead>\n",
              "  <tbody>\n",
              "    <tr>\n",
              "      <th>0</th>\n",
              "      <td>Random Forest</td>\n",
              "      <td>0.917443</td>\n",
              "    </tr>\n",
              "    <tr>\n",
              "      <th>1</th>\n",
              "      <td>Gradient Boosting</td>\n",
              "      <td>0.446946</td>\n",
              "    </tr>\n",
              "    <tr>\n",
              "      <th>2</th>\n",
              "      <td>SVM</td>\n",
              "      <td>0.261646</td>\n",
              "    </tr>\n",
              "    <tr>\n",
              "      <th>3</th>\n",
              "      <td>KNN</td>\n",
              "      <td>0.601967</td>\n",
              "    </tr>\n",
              "  </tbody>\n",
              "</table>\n",
              "</div>\n",
              "      <button class=\"colab-df-convert\" onclick=\"convertToInteractive('df-5ce6cd3a-f0e7-4bf6-91c4-98f8cc7eb5f6')\"\n",
              "              title=\"Convert this dataframe to an interactive table.\"\n",
              "              style=\"display:none;\">\n",
              "        \n",
              "  <svg xmlns=\"http://www.w3.org/2000/svg\" height=\"24px\"viewBox=\"0 0 24 24\"\n",
              "       width=\"24px\">\n",
              "    <path d=\"M0 0h24v24H0V0z\" fill=\"none\"/>\n",
              "    <path d=\"M18.56 5.44l.94 2.06.94-2.06 2.06-.94-2.06-.94-.94-2.06-.94 2.06-2.06.94zm-11 1L8.5 8.5l.94-2.06 2.06-.94-2.06-.94L8.5 2.5l-.94 2.06-2.06.94zm10 10l.94 2.06.94-2.06 2.06-.94-2.06-.94-.94-2.06-.94 2.06-2.06.94z\"/><path d=\"M17.41 7.96l-1.37-1.37c-.4-.4-.92-.59-1.43-.59-.52 0-1.04.2-1.43.59L10.3 9.45l-7.72 7.72c-.78.78-.78 2.05 0 2.83L4 21.41c.39.39.9.59 1.41.59.51 0 1.02-.2 1.41-.59l7.78-7.78 2.81-2.81c.8-.78.8-2.07 0-2.86zM5.41 20L4 18.59l7.72-7.72 1.47 1.35L5.41 20z\"/>\n",
              "  </svg>\n",
              "      </button>\n",
              "      \n",
              "  <style>\n",
              "    .colab-df-container {\n",
              "      display:flex;\n",
              "      flex-wrap:wrap;\n",
              "      gap: 12px;\n",
              "    }\n",
              "\n",
              "    .colab-df-convert {\n",
              "      background-color: #E8F0FE;\n",
              "      border: none;\n",
              "      border-radius: 50%;\n",
              "      cursor: pointer;\n",
              "      display: none;\n",
              "      fill: #1967D2;\n",
              "      height: 32px;\n",
              "      padding: 0 0 0 0;\n",
              "      width: 32px;\n",
              "    }\n",
              "\n",
              "    .colab-df-convert:hover {\n",
              "      background-color: #E2EBFA;\n",
              "      box-shadow: 0px 1px 2px rgba(60, 64, 67, 0.3), 0px 1px 3px 1px rgba(60, 64, 67, 0.15);\n",
              "      fill: #174EA6;\n",
              "    }\n",
              "\n",
              "    [theme=dark] .colab-df-convert {\n",
              "      background-color: #3B4455;\n",
              "      fill: #D2E3FC;\n",
              "    }\n",
              "\n",
              "    [theme=dark] .colab-df-convert:hover {\n",
              "      background-color: #434B5C;\n",
              "      box-shadow: 0px 1px 3px 1px rgba(0, 0, 0, 0.15);\n",
              "      filter: drop-shadow(0px 1px 2px rgba(0, 0, 0, 0.3));\n",
              "      fill: #FFFFFF;\n",
              "    }\n",
              "  </style>\n",
              "\n",
              "      <script>\n",
              "        const buttonEl =\n",
              "          document.querySelector('#df-5ce6cd3a-f0e7-4bf6-91c4-98f8cc7eb5f6 button.colab-df-convert');\n",
              "        buttonEl.style.display =\n",
              "          google.colab.kernel.accessAllowed ? 'block' : 'none';\n",
              "\n",
              "        async function convertToInteractive(key) {\n",
              "          const element = document.querySelector('#df-5ce6cd3a-f0e7-4bf6-91c4-98f8cc7eb5f6');\n",
              "          const dataTable =\n",
              "            await google.colab.kernel.invokeFunction('convertToInteractive',\n",
              "                                                     [key], {});\n",
              "          if (!dataTable) return;\n",
              "\n",
              "          const docLinkHtml = 'Like what you see? Visit the ' +\n",
              "            '<a target=\"_blank\" href=https://colab.research.google.com/notebooks/data_table.ipynb>data table notebook</a>'\n",
              "            + ' to learn more about interactive tables.';\n",
              "          element.innerHTML = '';\n",
              "          dataTable['output_type'] = 'display_data';\n",
              "          await google.colab.output.renderOutput(dataTable, element);\n",
              "          const docLink = document.createElement('div');\n",
              "          docLink.innerHTML = docLinkHtml;\n",
              "          element.appendChild(docLink);\n",
              "        }\n",
              "      </script>\n",
              "    </div>\n",
              "  </div>\n",
              "  "
            ]
          },
          "metadata": {},
          "execution_count": 80
        }
      ],
      "source": [
        "data"
      ]
    },
    {
      "cell_type": "code",
      "execution_count": null,
      "id": "d4236156",
      "metadata": {
        "colab": {
          "base_uri": "https://localhost:8080/",
          "height": 393
        },
        "id": "d4236156",
        "outputId": "f75f97ef-f0a3-4458-99ba-868d76d638fb"
      },
      "outputs": [
        {
          "output_type": "execute_result",
          "data": {
            "text/plain": [
              "(array([0, 1, 2, 3]), <a list of 4 Text major ticklabel objects>)"
            ]
          },
          "metadata": {},
          "execution_count": 81
        },
        {
          "output_type": "display_data",
          "data": {
            "text/plain": [
              "<Figure size 432x288 with 1 Axes>"
            ],
            "image/png": "[encoded data removed]"
          },
          "metadata": {
            "needs_background": "light"
          }
        }
      ],
      "source": [
        "sns.barplot(x='Algorithm',y='Accuracy',data=data)\n",
        "plt.title('Comparision of accuracy')\n",
        "plt.xticks(rotation=90)"
      ]
    },
    {
      "cell_type": "code",
      "execution_count": null,
      "id": "19c46770",
      "metadata": {
        "id": "19c46770"
      },
      "outputs": [],
      "source": []
    }
  ],
  "metadata": {
    "kernelspec": {
      "display_name": "Python 3 (ipykernel)",
      "language": "python",
      "name": "python3"
    },
    "language_info": {
      "codemirror_mode": {
        "name": "ipython",
        "version": 3
      },
      "file_extension": ".py",
      "mimetype": "text/x-python",
      "name": "python",
      "nbconvert_exporter": "python",
      "pygments_lexer": "ipython3",
      "version": "3.9.7"
    },
    "colab": {
      "provenance": []
    }
  },
  "nbformat": 4,
  "nbformat_minor": 5
}